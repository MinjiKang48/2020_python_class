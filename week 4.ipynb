{
 "cells": [
  {
   "cell_type": "markdown",
   "metadata": {},
   "source": [
    "# week 4 python"
   ]
  },
  {
   "cell_type": "markdown",
   "metadata": {},
   "source": [
    "### 4-1 \n",
    "str 타입의 변수 name을 입력받으면  \n",
    "\"hello\" + name  \n",
    "을 반환하는 함수를 작성하고 함수를 사용해 이름을 변수로 넣고 반환값을 받아  \n",
    "출력하는 프로그램을 작성하시오   \n",
    "주의:함수를 작성하고 함수를 run을 시켜야 함수를 사용할 수 있습니다."
   ]
  },
  {
   "cell_type": "code",
   "execution_count": 1,
   "metadata": {},
   "outputs": [],
   "source": [
    "def print_name():"
   ]
  },
  {
   "cell_type": "code",
   "execution_count": null,
   "metadata": {},
   "outputs": [],
   "source": []
  },
  {
   "cell_type": "markdown",
   "metadata": {},
   "source": [
    "### 4-2\n",
    "\n",
    "두 수를 입력받고 둘 중 큰 수를 반환하는 함수를 작성하고  \n",
    "반환값을 이용해 출력하는 프로그램을 작성하세요"
   ]
  },
  {
   "cell_type": "code",
   "execution_count": null,
   "metadata": {},
   "outputs": [],
   "source": [
    "def print_max():"
   ]
  },
  {
   "cell_type": "code",
   "execution_count": null,
   "metadata": {},
   "outputs": [],
   "source": []
  },
  {
   "cell_type": "markdown",
   "metadata": {},
   "source": [
    "### 4-3\n",
    "두 수를 입력받고 두 수의 곱을 출력하는 프로그램을 작성하세요  \n",
    "이 때 두번째 파라미터는 받지 않을 수 있습니다(입력값이 한개일 수 있습니다)  \n",
    "두번째 파라미터가 없는경우 초기값(14)로 설정되게 작성하세요   "
   ]
  },
  {
   "cell_type": "code",
   "execution_count": null,
   "metadata": {},
   "outputs": [],
   "source": [
    "def print_mul():"
   ]
  },
  {
   "cell_type": "code",
   "execution_count": null,
   "metadata": {},
   "outputs": [],
   "source": []
  },
  {
   "cell_type": "markdown",
   "metadata": {},
   "source": [
    "### 4-4\n",
    "\n",
    "함수를 이용해 list에 담긴 값 중 최대값을 구하는 프로그램을 작성하세요  \n"
   ]
  },
  {
   "cell_type": "code",
   "execution_count": null,
   "metadata": {},
   "outputs": [],
   "source": [
    "def get_Avg():"
   ]
  },
  {
   "cell_type": "code",
   "execution_count": null,
   "metadata": {},
   "outputs": [],
   "source": [
    "list_a=[1,3,4,58,5,11,16]\n"
   ]
  },
  {
   "cell_type": "markdown",
   "metadata": {},
   "source": [
    "### 4-5\n",
    "\n",
    "람다 함수를 이용하여 1부터 9까지 제곱수를 출력하는 프로그램을 작성하세요 \n"
   ]
  },
  {
   "cell_type": "code",
   "execution_count": null,
   "metadata": {},
   "outputs": [],
   "source": []
  }
 ],
 "metadata": {
  "kernelspec": {
   "display_name": "Python 3",
   "language": "python",
   "name": "python3"
  },
  "language_info": {
   "codemirror_mode": {
    "name": "ipython",
    "version": 3
   },
   "file_extension": ".py",
   "mimetype": "text/x-python",
   "name": "python",
   "nbconvert_exporter": "python",
   "pygments_lexer": "ipython3",
   "version": "3.7.3"
  }
 },
 "nbformat": 4,
 "nbformat_minor": 2
}
