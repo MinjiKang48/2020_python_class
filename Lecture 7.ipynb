{
 "cells": [
  {
   "cell_type": "markdown",
   "metadata": {},
   "source": [
    "# Lecture 7"
   ]
  },
  {
   "cell_type": "markdown",
   "metadata": {},
   "source": [
    "## 7-1\n",
    "\n",
    "아래의 코드를 실행시키면 몇 번째의 변수가 출력되는지 적으세요\n"
   ]
  },
  {
   "cell_type": "code",
   "execution_count": 1,
   "metadata": {},
   "outputs": [],
   "source": [
    "x=10 # 1번\n",
    "def func1():\n",
    "    x=10# 2번\n",
    "    print(x) # 몇번의 변수를 출력?\n",
    "    \n",
    "func1()"
   ]
  },
  {
   "cell_type": "code",
   "execution_count": 2,
   "metadata": {},
   "outputs": [],
   "source": [
    "print(\"번 변수\")"
   ]
  },
  {
   "cell_type": "markdown",
   "metadata": {},
   "source": [
    "## 7-2\n",
    "아래의 코드를 실행시키면 몇 번째의 변수가 출력되지 적으세요"
   ]
  },
  {
   "cell_type": "code",
   "execution_count": 3,
   "metadata": {},
   "outputs": [
    {
     "name": "stdout",
     "output_type": "stream",
     "text": [
      "11\n"
     ]
    }
   ],
   "source": [
    "x=11# 1번\n",
    "\n",
    "def func1():\n",
    "    x=11 #2번\n",
    "    \n",
    "    def func2():\n",
    "        x=11# 3번\n",
    "        print(x)# 몇번의 변수를 출력?\n",
    "        \n",
    "    func2()\n",
    "    \n",
    "func1()\n"
   ]
  },
  {
   "cell_type": "code",
   "execution_count": 4,
   "metadata": {},
   "outputs": [
    {
     "name": "stdout",
     "output_type": "stream",
     "text": [
      "번 변수\n"
     ]
    }
   ],
   "source": [
    "print(\"번 변수\")"
   ]
  },
  {
   "cell_type": "markdown",
   "metadata": {},
   "source": [
    "## 7-3 \n",
    "아래의 코드를 실행시키면 몇 번째의 변수가 출력되는지 적으세요"
   ]
  },
  {
   "cell_type": "code",
   "execution_count": 5,
   "metadata": {},
   "outputs": [
    {
     "name": "stdout",
     "output_type": "stream",
     "text": [
      "11\n"
     ]
    }
   ],
   "source": [
    "x=11# 1번\n",
    "\n",
    "def func1():\n",
    "    x=11 #2번\n",
    "    \n",
    "    def func2():\n",
    "        x=11# 3번\n",
    "    func2()\n",
    "    print(x)# 몇번의 변수를 출력?\n",
    "func1()\n"
   ]
  },
  {
   "cell_type": "code",
   "execution_count": 6,
   "metadata": {},
   "outputs": [
    {
     "name": "stdout",
     "output_type": "stream",
     "text": [
      "번 변수\n"
     ]
    }
   ],
   "source": [
    "print(\"번 변수\")"
   ]
  },
  {
   "cell_type": "markdown",
   "metadata": {},
   "source": [
    "## 7-4 \n",
    "아래의 코드를 실행시키면  \n",
    "func2 함수에서 x가 몇 번째의 변수를 참조하는지 적으세요"
   ]
  },
  {
   "cell_type": "code",
   "execution_count": 7,
   "metadata": {},
   "outputs": [],
   "source": [
    "x=11# 1번\n",
    "\n",
    "def func1():\n",
    "    \n",
    "    x=11 #2번\n",
    "    \n",
    "    def func2():\n",
    "        nonlocal x\n",
    "        x=11 #어떤 위치의 x를 바꾸는것인지\n",
    "        \n",
    "    func2()\n",
    "func1()\n"
   ]
  },
  {
   "cell_type": "code",
   "execution_count": 8,
   "metadata": {},
   "outputs": [
    {
     "name": "stdout",
     "output_type": "stream",
     "text": [
      "번 변수\n"
     ]
    }
   ],
   "source": [
    "print(\"번 변수\")"
   ]
  },
  {
   "cell_type": "markdown",
   "metadata": {},
   "source": [
    "## 7-5 \n",
    "아래의 코드를 실행시키면   \n",
    "func2 함수에서 x가 몇 번째의 변수를 참조하는지 적으세요"
   ]
  },
  {
   "cell_type": "code",
   "execution_count": 9,
   "metadata": {},
   "outputs": [],
   "source": [
    "x=11# 1번\n",
    "\n",
    "def func1():\n",
    "    \n",
    "    x=11 #2번\n",
    "    \n",
    "    def func2():\n",
    "        global x\n",
    "        x=11 #어떤 위치의 x를 바꾸는것인지\n",
    "        \n",
    "    func2()\n",
    "func1()"
   ]
  },
  {
   "cell_type": "code",
   "execution_count": 10,
   "metadata": {},
   "outputs": [
    {
     "name": "stdout",
     "output_type": "stream",
     "text": [
      "번 변수\n"
     ]
    }
   ],
   "source": [
    "print(\"번 변수\")"
   ]
  }
 ],
 "metadata": {
  "kernelspec": {
   "display_name": "Python 3",
   "language": "python",
   "name": "python3"
  },
  "language_info": {
   "codemirror_mode": {
    "name": "ipython",
    "version": 3
   },
   "file_extension": ".py",
   "mimetype": "text/x-python",
   "name": "python",
   "nbconvert_exporter": "python",
   "pygments_lexer": "ipython3",
   "version": "3.7.3"
  }
 },
 "nbformat": 4,
 "nbformat_minor": 2
}
