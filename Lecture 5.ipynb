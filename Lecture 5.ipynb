{
 "cells": [
  {
   "cell_type": "markdown",
   "metadata": {},
   "source": [
    "# Lecture 5 python\n"
   ]
  },
  {
   "cell_type": "markdown",
   "metadata": {},
   "source": [
    "input()의 사용법 안내  \n",
    "print()는 말 그대로 print라는 함수를 작동시키는데 인자로 안의 값들을 받아 출력하는 형태입니다.  \n",
    "이와 마찬가지로 input()을 사용해 사용자의 키보드 입력으로 부터 값을 받아오는것도 가능합니다.  \n",
    "\n",
    "아래의 셀을 작동시켜보세요. 이번 lecture의 강의 중 입력을 받아 사용하는 문제가 있을 예정입니다.\n"
   ]
  },
  {
   "cell_type": "code",
   "execution_count": 1,
   "metadata": {},
   "outputs": [
    {
     "name": "stdout",
     "output_type": "stream",
     "text": [
      "ㅁㄴㅇ\n",
      "input: ㅁㄴㅇ\n",
      "input's type : <class 'str'>\n"
     ]
    }
   ],
   "source": [
    "test=input()\n",
    "print(\"input:\",test)\n",
    "print(\"input's type :\",type(test))"
   ]
  },
  {
   "cell_type": "markdown",
   "metadata": {},
   "source": [
    "### 5-1\n",
    "human이라는 클래스를 정의하고 객체를 하나 생성하세요  \n",
    "또한 \\_\\_init\\_\\_를 이용해서 human객체 안의 name 이라는 변수가 input()을 통해 이름을 가지도록 하세요  \n",
    "함수와 마찬가지로 class를 작성 후 한번 실행을 해야 정의됩니다.  \n",
    "출력으로 생성한 객체의 name 변수를 출력하도록 작성하세요\n"
   ]
  },
  {
   "cell_type": "code",
   "execution_count": 2,
   "metadata": {},
   "outputs": [
    {
     "ename": "SyntaxError",
     "evalue": "unexpected EOF while parsing (<ipython-input-2-32744a3ffd11>, line 3)",
     "output_type": "error",
     "traceback": [
      "\u001b[1;36m  File \u001b[1;32m\"<ipython-input-2-32744a3ffd11>\"\u001b[1;36m, line \u001b[1;32m3\u001b[0m\n\u001b[1;33m    \u001b[0m\n\u001b[1;37m    ^\u001b[0m\n\u001b[1;31mSyntaxError\u001b[0m\u001b[1;31m:\u001b[0m unexpected EOF while parsing\n"
     ]
    }
   ],
   "source": [
    "class human:\n",
    "    def __init__(self):\n",
    "        "
   ]
  },
  {
   "cell_type": "code",
   "execution_count": null,
   "metadata": {},
   "outputs": [],
   "source": []
  },
  {
   "cell_type": "markdown",
   "metadata": {},
   "source": [
    "### 5-2\n",
    "\n",
    "로봇이라는 클래스를 정의하고 ob1,ob2라는 객체를 2개 생성하세요  \n",
    "이때 이름을 input()으로 입력받아 ob1,ob2의 이름을 설정하세요 \n",
    "\n",
    "그리고 두 객체의 이름을 출력하세요  \n"
   ]
  },
  {
   "cell_type": "code",
   "execution_count": null,
   "metadata": {},
   "outputs": [],
   "source": [
    "class Robot:\n",
    "    "
   ]
  },
  {
   "cell_type": "code",
   "execution_count": null,
   "metadata": {},
   "outputs": [],
   "source": []
  },
  {
   "cell_type": "markdown",
   "metadata": {},
   "source": [
    "### 5-3\n",
    "\n",
    "해당 코드를 동작시키면 오류가 발생합니다.  \n",
    "해당 오류의 발생원인을 3번째 셀의 print문 안에 채워넣으세요  "
   ]
  },
  {
   "cell_type": "code",
   "execution_count": null,
   "metadata": {},
   "outputs": [],
   "source": [
    "class circle:\n",
    "    def __init__(self,r):\n",
    "        self.__radius=r\n",
    "        "
   ]
  },
  {
   "cell_type": "code",
   "execution_count": null,
   "metadata": {},
   "outputs": [],
   "source": [
    "A=circle(10)\n",
    "print(A.__radius)"
   ]
  },
  {
   "cell_type": "code",
   "execution_count": null,
   "metadata": {},
   "outputs": [],
   "source": [
    "print(\"이유: \")"
   ]
  },
  {
   "cell_type": "markdown",
   "metadata": {},
   "source": [
    "### 5-4\n",
    "상속성\n",
    "\n",
    "다음 조건을 만족하는 클래스를 선언하세요  \n",
    "\n",
    "parent라는 클래스를 하나 선언하세요 이때 class가 가지는 값은 hi()라는 함수를 하나 가지며 내부에는 \n",
    "print(\"hi\")라는 동작을 합니다.\n",
    "\n",
    "baby라는 클래스를 하나 선언하세요 이때 class가 가지는 값은 hello()라는 함수를 하나 가지며 내부에는\n",
    "print(\"hello\")라는 동작을 합니다.또한 parent 클래스를 상속합니다.\n",
    "\n",
    "baby 클래스를 이용해 객체를 하나 생성한 뒤 hi()함수와 hello() 함수 동작시키세요.\n"
   ]
  },
  {
   "cell_type": "code",
   "execution_count": null,
   "metadata": {},
   "outputs": [],
   "source": [
    "class parent:\n",
    "    \n",
    "    \n",
    "class baby:\n",
    "\n",
    "    "
   ]
  },
  {
   "cell_type": "code",
   "execution_count": null,
   "metadata": {},
   "outputs": [],
   "source": []
  },
  {
   "cell_type": "markdown",
   "metadata": {},
   "source": [
    "### 5-5\n",
    "다음 조건을 만족하는 클래스를 선언하세요  \n",
    "클래스의 이름이 phone입니다.\n",
    "객체의 클래스 변수로 location이라는 이름을 가지고 \"korea\"라는 값을 가집니다.  \n",
    "\\_\\_init__(self,p_number,brand)의 인자를 가지고 각 인자를  \n",
    "\n",
    "\n",
    "self.p_no=p_number  \n",
    "self.brand=brand  \n",
    "그리고 인자로 받지 않는 값 self.price를 100의 값을 가지도록 설정하세요  \n",
    "\n",
    "클래스의 함수는 2개가 있습니다.  \n",
    "print_info()함수는 인자를 받지 않고  \n",
    "출력으로 location과 p_no을 출력합니다.  \n",
    "\n",
    "print_price() 함수는 인자를 하나 받고  \n",
    "출력으로 self.brand와 self.price+인자의 값 을 출력합니다.  \n",
    "\n",
    "\n",
    "p_number,brand가 다음과 같은 객체 2개를 생성하고 모든 객체에 대해 print_info()와 print_price()를 출력합니다.  \n",
    "\n",
    "\"010-1122-1122\",\"삼성\"(이 객체의 print_price 함수를 호출할 때 인자로 33을 넘겨줍니다.)  \n",
    "\"010-4444-4444\",\"애플\"(이 객체의 print_price 함수를 호출할 때 인자로 35을 넘겨줍니다.)\n",
    "\n"
   ]
  },
  {
   "cell_type": "code",
   "execution_count": null,
   "metadata": {},
   "outputs": [],
   "source": []
  },
  {
   "cell_type": "code",
   "execution_count": null,
   "metadata": {},
   "outputs": [],
   "source": []
  }
 ],
 "metadata": {
  "kernelspec": {
   "display_name": "Python 3",
   "language": "python",
   "name": "python3"
  },
  "language_info": {
   "codemirror_mode": {
    "name": "ipython",
    "version": 3
   },
   "file_extension": ".py",
   "mimetype": "text/x-python",
   "name": "python",
   "nbconvert_exporter": "python",
   "pygments_lexer": "ipython3",
   "version": "3.7.3"
  }
 },
 "nbformat": 4,
 "nbformat_minor": 2
}
