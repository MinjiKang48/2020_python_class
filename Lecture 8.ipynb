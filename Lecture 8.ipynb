{
 "cells": [
  {
   "cell_type": "markdown",
   "metadata": {},
   "source": [
    "# Lecture 8 python\n"
   ]
  },
  {
   "cell_type": "markdown",
   "metadata": {},
   "source": [
    "반복문을 이용하게 될 때 리스트를 반복조건으로 할 수 있습니다.  \n",
    "다음의 코드를 이용해 방법을 익혀보세요 반복횟수는 리스트의 길이(값의 갯수)입니다.\n",
    "\n",
    "해당 코드를 동작하면 리스트의 원소 하나씩을 뺴서 i의 값이 됩니다.  "
   ]
  },
  {
   "cell_type": "code",
   "execution_count": 3,
   "metadata": {},
   "outputs": [
    {
     "name": "stdout",
     "output_type": "stream",
     "text": [
      "3\n",
      "4\n",
      "1\n",
      "8\n",
      "5\n",
      "8\n",
      "2\n",
      "2\n",
      "1\n",
      "10\n",
      "11\n"
     ]
    }
   ],
   "source": [
    "A=[3,4,1,8,5,8,2,2,1,10,11]\n",
    "\n",
    "for i in A:\n",
    "    print(i)"
   ]
  },
  {
   "cell_type": "markdown",
   "metadata": {},
   "source": [
    "### 8-1\n",
    "\n",
    "0부터 10까지 값이 있는 리스트와  \n",
    "100부터 90까지 있는 리스트를 선언하고  \n",
    "두 리스트를 합치세요 그리고 출력하세요"
   ]
  },
  {
   "cell_type": "code",
   "execution_count": null,
   "metadata": {},
   "outputs": [],
   "source": []
  },
  {
   "cell_type": "markdown",
   "metadata": {},
   "source": [
    "### 8-2\n",
    "리스트에 다음과 같이 사용하면 리스트를 분해 할 수 있습니다.이것을 슬라이싱 이라고 합니다.  \n",
    "1번부터 100번까지의 배열을 만듭니다.  \n",
    "이것을 슬라이싱을 이용해 34~60 값이 있는 배열로 만드세요 그리고 출력하세요"
   ]
  },
  {
   "cell_type": "code",
   "execution_count": 2,
   "metadata": {},
   "outputs": [
    {
     "name": "stdout",
     "output_type": "stream",
     "text": [
      "[1, 2, 3]\n"
     ]
    }
   ],
   "source": [
    "A=[1,2,3,4,5,6,7,8,9]\n",
    "print(A[0:3]) # 0번 인덱스부터 ~ 2번째 인덱스까지 \n"
   ]
  },
  {
   "cell_type": "markdown",
   "metadata": {},
   "source": [
    "### 8-3\n",
    "딕셔너리를 이용하여 다음의 데이터를 가지도록 프로그래밍 하세요\n",
    "a = 에이  \n",
    "b = 비  \n",
    "c = 씨  \n",
    "d = 디  \n",
    "e = 이  \n",
    "f = 에프  \n",
    "\n",
    "그리고 출력하세요"
   ]
  },
  {
   "cell_type": "code",
   "execution_count": null,
   "metadata": {},
   "outputs": [],
   "source": []
  },
  {
   "cell_type": "markdown",
   "metadata": {},
   "source": [
    "### 8-4\n",
    "다음과 같은 물건들이 있고 가격이 있을때 이 값들을 딕셔너리에 저장하세요  \n",
    "\n",
    "그리고 딕셔너리를 출력하고 딕셔너리에 저장된 값을 이용해 모든 물건의 값의 합을 출력하세요  \n",
    "수작업이 아닌 코드로 작성해야 합니다  \n",
    "프링글스 2500원  \n",
    "치약 3000원  \n",
    "사탕 500원  \n",
    "과자 1000원  \n",
    "아이스크림 1500원  \n",
    "책 9900원  \n",
    "음료수 1200원  "
   ]
  },
  {
   "cell_type": "code",
   "execution_count": null,
   "metadata": {},
   "outputs": [],
   "source": []
  },
  {
   "cell_type": "markdown",
   "metadata": {},
   "source": [
    "### 8-5\n",
    "A에 들어있는 값들에 대해 중복을 제거한 후 각 값들이 고유한 번호화 매핑되도록 딕셔너리로 만드세요  \n",
    "수작업이 아닌 코드로 작성해야 합니다  \n",
    "ex)  \n",
    "우유 : 1  \n",
    "치킨 : 2 \n"
   ]
  },
  {
   "cell_type": "code",
   "execution_count": 11,
   "metadata": {},
   "outputs": [],
   "source": [
    "A=[\"우유\",\"치킨\",\"피자\",\"초콜릿\",\"콜라\",\"치킨\",\"핫도그\",\"햄버거\",\"치킨\",\"피자\",\"콜라\"]\n",
    "B=set(A)#set()을 사용하게되면 인자로 받은 값을 집합으로 만들게 됩니다.\n",
    "\n"
   ]
  }
 ],
 "metadata": {
  "kernelspec": {
   "display_name": "Python 3",
   "language": "python",
   "name": "python3"
  },
  "language_info": {
   "codemirror_mode": {
    "name": "ipython",
    "version": 3
   },
   "file_extension": ".py",
   "mimetype": "text/x-python",
   "name": "python",
   "nbconvert_exporter": "python",
   "pygments_lexer": "ipython3",
   "version": "3.7.3"
  }
 },
 "nbformat": 4,
 "nbformat_minor": 2
}
