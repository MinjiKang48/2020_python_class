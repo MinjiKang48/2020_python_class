{
 "cells": [
  {
   "cell_type": "markdown",
   "metadata": {},
   "source": [
    "# week 3 python"
   ]
  },
  {
   "cell_type": "markdown",
   "metadata": {},
   "source": [
    "### 3-1 \n",
    "\n",
    "2부터 100까지 모든 숫자 중 짝수를 출력하는 프로그램을 작성하시오."
   ]
  },
  {
   "cell_type": "code",
   "execution_count": null,
   "metadata": {},
   "outputs": [],
   "source": []
  },
  {
   "cell_type": "markdown",
   "metadata": {},
   "source": [
    "### 3-2\n",
    "반복문을 사용하여 1부터 100까지 합을 구하는 프로그램을 작성하시오.\n"
   ]
  },
  {
   "cell_type": "code",
   "execution_count": null,
   "metadata": {},
   "outputs": [],
   "source": []
  },
  {
   "cell_type": "markdown",
   "metadata": {},
   "source": [
    "### 3-3 \n",
    "\n",
    "반복문을 사용하여 구구단을 출력하는 프로그램을 작성하시오.  \n",
    "구구단 중 7단을 출력하세요."
   ]
  },
  {
   "cell_type": "code",
   "execution_count": 1,
   "metadata": {},
   "outputs": [],
   "source": [
    "var = 7 \n"
   ]
  },
  {
   "cell_type": "markdown",
   "metadata": {},
   "source": [
    "### 3-4\n",
    "\n",
    "1부터 99까지 모든 숫자 중 3 또는 5의 배수의 합을 구하여 출력하는 프로그램을 작성하시오. "
   ]
  },
  {
   "cell_type": "code",
   "execution_count": null,
   "metadata": {},
   "outputs": [],
   "source": []
  },
  {
   "cell_type": "markdown",
   "metadata": {},
   "source": [
    "### 3-5 \n",
    "반복문 내부의 반복문을 사용하여  \n",
    "선언된 변수의 크기만큼 삼각형 구조를 가지는 출력을 하는 프로그램을 작성하시오  \n",
    "ex) var = 5  \n",
    "1  \n",
    "12  \n",
    "123  \n",
    "1234  \n",
    "12345  \n",
    "\n",
    "\n",
    "\n",
    "hint: print(var,end='')로 print(출력할 변수,end='출력단 뒤에 붙을 문자열') 형태로  \n",
    "end=()안에 공백 문자를 넘겨주게 되면 엔터처리 없이 출력할 수 있습니다."
   ]
  },
  {
   "cell_type": "code",
   "execution_count": null,
   "metadata": {},
   "outputs": [],
   "source": []
  }
 ],
 "metadata": {
  "kernelspec": {
   "display_name": "Python 3",
   "language": "python",
   "name": "python3"
  },
  "language_info": {
   "codemirror_mode": {
    "name": "ipython",
    "version": 3
   },
   "file_extension": ".py",
   "mimetype": "text/x-python",
   "name": "python",
   "nbconvert_exporter": "python",
   "pygments_lexer": "ipython3",
   "version": "3.7.3"
  }
 },
 "nbformat": 4,
 "nbformat_minor": 2
}
