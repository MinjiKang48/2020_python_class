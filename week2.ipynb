{
 "cells": [
  {
   "cell_type": "markdown",
   "metadata": {},
   "source": [
    "# week 1 python\n",
    "\n",
    "\n"
   ]
  },
  {
   "cell_type": "markdown",
   "metadata": {},
   "source": [
    "### 1-1 \n",
    "\n",
    "아래의 코드는 두 수의 합을 계산하는 프로그램 입니다.  \n",
    "코드를 실행하면 오류가 뜨게 되는데 오류해결방안을 제시하세요\n"
   ]
  },
  {
   "cell_type": "code",
   "execution_count": 13,
   "metadata": {},
   "outputs": [
    {
     "ename": "TypeError",
     "evalue": "can only concatenate str (not \"int\") to str",
     "output_type": "error",
     "traceback": [
      "\u001b[1;31m---------------------------------------------------------------------------\u001b[0m",
      "\u001b[1;31mTypeError\u001b[0m                                 Traceback (most recent call last)",
      "\u001b[1;32m<ipython-input-13-51645d348a86>\u001b[0m in \u001b[0;36m<module>\u001b[1;34m\u001b[0m\n\u001b[0;32m      3\u001b[0m \u001b[0mvar2\u001b[0m\u001b[1;33m=\u001b[0m\u001b[1;36m10\u001b[0m \u001b[1;31m# 변경하지 않는다.\u001b[0m\u001b[1;33m\u001b[0m\u001b[1;33m\u001b[0m\u001b[0m\n\u001b[0;32m      4\u001b[0m \u001b[1;33m\u001b[0m\u001b[0m\n\u001b[1;32m----> 5\u001b[1;33m \u001b[0mprint\u001b[0m\u001b[1;33m(\u001b[0m\u001b[0mvar1\u001b[0m\u001b[1;33m+\u001b[0m\u001b[0mvar2\u001b[0m\u001b[1;33m)\u001b[0m\u001b[1;33m\u001b[0m\u001b[1;33m\u001b[0m\u001b[0m\n\u001b[0m",
      "\u001b[1;31mTypeError\u001b[0m: can only concatenate str (not \"int\") to str"
     ]
    }
   ],
   "source": [
    "\n",
    "var1='5'# 변경하지 않는다.\n",
    "var2=10 # 변경하지 않는다.\n",
    "\n",
    "print(var1+var2)\n"
   ]
  },
  {
   "cell_type": "markdown",
   "metadata": {},
   "source": [
    "### 1-2\n",
    "\n",
    "두 수를 입력받았을 때 각 print문 옆의 주석에 해당하는 결과를 출력할 수 있게 내부를 채워넣으세요\n"
   ]
  },
  {
   "cell_type": "code",
   "execution_count": 14,
   "metadata": {
    "scrolled": true
   },
   "outputs": [
    {
     "name": "stdout",
     "output_type": "stream",
     "text": [
      "\n",
      "\n",
      "\n",
      "\n"
     ]
    }
   ],
   "source": [
    "var1=100\n",
    "var2=200\n",
    "\n",
    "print() #두 수의 합\n",
    "print() #두 수의 차\n",
    "print() #두 수의 곱\n",
    "print() #두 수의 평균"
   ]
  },
  {
   "cell_type": "markdown",
   "metadata": {},
   "source": [
    "### 1-3\n",
    "\n",
    "\n",
    "첫번째 변수 12345  \n",
    "두번째 변수 10885  \n",
    "를 선언하고  \n",
    "\n",
    "\n",
    "첫번째 변수/10 의 나머지와  \n",
    "두번째 변수/20 의 나머지가 같은지 검사 후  \n",
    "조건문을 이용해 같다면 \"같음\" 다르다면 \"다름\" 이라고 출력하는 코드를 작성하세요  "
   ]
  },
  {
   "cell_type": "code",
   "execution_count": 19,
   "metadata": {
    "scrolled": true
   },
   "outputs": [],
   "source": [
    "var1=12345\n",
    "var2=10885\n",
    "\n"
   ]
  },
  {
   "cell_type": "markdown",
   "metadata": {},
   "source": [
    "4자리 숫자가 변수로 선언되었을때 각 자리수의 합을 출력할 수 있는 프로그램을 작성 하시오\n",
    "\n",
    "ex) 1234가 입력되면 1+2+3+4를 출력\n",
    "\n",
    "변수의 값은 8952 로 설정하세요\n"
   ]
  },
  {
   "cell_type": "code",
   "execution_count": 20,
   "metadata": {},
   "outputs": [],
   "source": [
    "var1= 8952"
   ]
  },
  {
   "cell_type": "markdown",
   "metadata": {},
   "source": [
    "화씨 온도로 선언된 f 가 있을때 이것을 섭씨 온도로 변환하는 프로그램을 작성하시오.  \n",
    "화씨를 섭씨로 변환하는 식은 다음과 같습니다.\n",
    "\n",
    "$C = (f -32.0) *\\frac 5 9$  \n",
    "\n",
    "화씨 온도 100도를 섭씨로 변환한 결과를 출력합니다."
   ]
  },
  {
   "cell_type": "code",
   "execution_count": 12,
   "metadata": {},
   "outputs": [
    {
     "data": {
      "text/plain": [
       "37.77777777777778"
      ]
     },
     "execution_count": 12,
     "metadata": {},
     "output_type": "execute_result"
    }
   ],
   "source": [
    "var1= 100\n",
    "\n",
    "(var1-32.0)*5/9"
   ]
  },
  {
   "cell_type": "code",
   "execution_count": null,
   "metadata": {},
   "outputs": [],
   "source": []
  }
 ],
 "metadata": {
  "kernelspec": {
   "display_name": "Python 3",
   "language": "python",
   "name": "python3"
  },
  "language_info": {
   "codemirror_mode": {
    "name": "ipython",
    "version": 3
   },
   "file_extension": ".py",
   "mimetype": "text/x-python",
   "name": "python",
   "nbconvert_exporter": "python",
   "pygments_lexer": "ipython3",
   "version": "3.7.3"
  }
 },
 "nbformat": 4,
 "nbformat_minor": 2
}
