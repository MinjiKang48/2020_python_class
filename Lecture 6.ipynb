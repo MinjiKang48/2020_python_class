{
 "cells": [
  {
   "cell_type": "markdown",
   "metadata": {},
   "source": [
    "# Lecture 6 python\n"
   ]
  },
  {
   "cell_type": "markdown",
   "metadata": {},
   "source": [
    "### 6-1 \n",
    "다음과 같은 계산기 클래스가 정의되어 있습니다.  \n",
    "이 클래스를 상속하는 mimi라는 클래스를 하나 정의하세요  \n",
    "그리고 그 클래스에 add와 mul함수를 정의하세요  \n",
    "\n",
    "각 함수는 다음과 같은 역할을 갖습니다.\n",
    "\n",
    "\n",
    "add  \n",
    "\n",
    "입력받은 두 수를 더합니다.  \n",
    "단 결과가 100보다 클경우 100으로 조정합니다.  \n",
    "\n",
    "mul  \n",
    "입력받은 두 수를 곱합니다.  \n",
    "단 결과가 100보다 클 경우 100으로 조정합니다.\n",
    "\n",
    "\n",
    "그리고 mini 객체에 add와 mul 함수의 입력으로 33과 45를 넘겨주었을때를 출력하세요 "
   ]
  },
  {
   "cell_type": "code",
   "execution_count": 37,
   "metadata": {},
   "outputs": [],
   "source": [
    "\n",
    "class calculator():\n",
    "    def add():\n",
    "        pass\n",
    "    def mul():\n",
    "        pass\n",
    "    \n",
    "class mini(calculator):\n",
    "    def add(self,a,b):\n",
    "        \n",
    "        #안의 값을 채워넣으세요\n",
    "        \n",
    "    def mul(self,a,b):\n",
    "        \n",
    "        #안의 값을 채워넣으세요"
   ]
  },
  {
   "cell_type": "code",
   "execution_count": 38,
   "metadata": {},
   "outputs": [
    {
     "name": "stdout",
     "output_type": "stream",
     "text": [
      "68\n",
      "100\n"
     ]
    }
   ],
   "source": [
    "mini=mini()\n",
    "print(mini.add(33,35))\n",
    "print(mini.mul(33,35))"
   ]
  },
  {
   "cell_type": "markdown",
   "metadata": {},
   "source": [
    "### 6-2\n",
    "깃허브에  \n",
    "module.py 파일이 업로드 되어있습니다.  \n",
    "\n",
    "이 파일을 저장 후  이 파일의 위치와 같은 위치에 놓은뒤  \n",
    "해당 모듈을 import하세요  \n",
    "\n",
    "해당 모듈안에는 eat(),cook(),make(),cook_and_eat() 라는 함수가 작성되어있습니다.  \n",
    "\n",
    "해당 함수들을 전부 호출하세요  "
   ]
  },
  {
   "cell_type": "code",
   "execution_count": 10,
   "metadata": {},
   "outputs": [
    {
     "name": "stdout",
     "output_type": "stream",
     "text": [
      "먹다\n",
      "요리하다\n",
      "요리하다\n",
      "먹다\n"
     ]
    }
   ],
   "source": [
    "#이 출에 모듈에서 함수들을 import 하세요\n",
    "\n",
    "eat()\n",
    "cook()\n",
    "cook_and_eat()"
   ]
  },
  {
   "cell_type": "markdown",
   "metadata": {},
   "source": [
    "### 6-3\n",
    "파이썬에서 기본적으로 제공하는 기본 모듈이 있습니다. 아래와 같이 간단하게 import를 해 사용할 수 있고     \n",
    "as ~ 를 붙히면 해당 이름으로 간단하게 정의할 수 있습니다.  \n",
    "\n",
    "numpy 모듈은 배열의 조작이나 여러 동작들을 쉽게 해주는 모듈입니다.  \n",
    "matplotlib는 그래프를 그리거나 변경 할 수 있습니다.  \n",
    "\n",
    "4번문제에서는 문제를 풀 필요없이 아래 값들 자유롭게 조작해보세요.  "
   ]
  },
  {
   "cell_type": "code",
   "execution_count": 2,
   "metadata": {},
   "outputs": [],
   "source": [
    "import matplotlib.pyplot as plt\n",
    "import numpy as np"
   ]
  },
  {
   "cell_type": "code",
   "execution_count": 3,
   "metadata": {},
   "outputs": [
    {
     "name": "stdout",
     "output_type": "stream",
     "text": [
      "[3, 4, 5, 1, 2]\n"
     ]
    },
    {
     "data": {
      "text/plain": [
       "[<matplotlib.lines.Line2D at 0x2436cb52b38>]"
      ]
     },
     "execution_count": 3,
     "metadata": {},
     "output_type": "execute_result"
    },
    {
     "data": {
      "image/png": "[encoded data removed]",
      "text/plain": [
       "<Figure size 432x288 with 1 Axes>"
      ]
     },
     "metadata": {
      "needs_background": "light"
     },
     "output_type": "display_data"
    }
   ],
   "source": [
    "# A= np.linspace(0,10,100)\n",
    "A=[3,4,5,1,2]\n",
    "print(A)\n",
    "\n",
    "#as numpy를 붙히지 않아도 import numpy를 했다면 numpy.linspace(0,10,100)으로 사용할 수 있습니다.\n",
    "#해당 함수는 1부터 10까지 100개의 numpy 배열을 만드는 함수입니다.\n",
    "\n",
    "plt.plot(A)\n",
    "# plt.plot([1, 2, 3, 4], [1, 4, 9, 16])\n",
    "#2개의 인자를 넘겨주어 x축과 y축을 변경할 수 있습니다."
   ]
  },
  {
   "cell_type": "code",
   "execution_count": 4,
   "metadata": {},
   "outputs": [
    {
     "data": {
      "text/plain": [
       "Text(0, 0.5, 'temperture')"
      ]
     },
     "execution_count": 4,
     "metadata": {},
     "output_type": "execute_result"
    },
    {
     "data": {
      "image/png": "[encoded data removed]",
      "text/plain": [
       "<Figure size 432x288 with 1 Axes>"
      ]
     },
     "metadata": {
      "needs_background": "light"
     },
     "output_type": "display_data"
    }
   ],
   "source": [
    "#아래와 같이 사용도 가능합니다.\n",
    "\n",
    "X=[\"mon\",\"Tue\",\"Wed\",\"thur\",\"Fri\",\"Sat\",\"Sun\"] \n",
    "Y1=[-14.5,-8.7,-9.5,-6.2,-6.4,-16.3,-10.2]#data1\n",
    "Y2=[-3,2,4,4,4,6,-1]#data2\n",
    "\n",
    "plt.plot(X,Y1,X,Y2) #plot data1,data2\n",
    "plt.xlabel(\"day\")#change x label\n",
    "plt.ylabel(\"temperture\")#change y label"
   ]
  },
  {
   "cell_type": "markdown",
   "metadata": {},
   "source": [
    "### 6-4 \n",
    "\n",
    "가위바위보 게임을 10판 하는 프로그램을 작성하세요(반복문 이용)  \n",
    "\n",
    "random이라는 모듈은 임의의 난수를 생성하는 모듈입니다.  \n",
    "모듈 내에 randint라는 함수는 2개의 인자를 받아 두 수 사이의 임의의 숫자를 return합니다.  \n",
    "\n",
    "이를 이용해 가위바위보 게임을 하고 매 게임의 승자를 출력하도록 하세요  \n",
    "\n",
    "0:가위  \n",
    "1:바위  \n",
    "2:보  \n",
    "\n",
    "두 플레이어는 매판 0부터 2사이의 랜덤한 숫자를 가집니다."
   ]
  },
  {
   "cell_type": "code",
   "execution_count": 14,
   "metadata": {},
   "outputs": [],
   "source": [
    "import random"
   ]
  },
  {
   "cell_type": "code",
   "execution_count": null,
   "metadata": {},
   "outputs": [],
   "source": [
    "print(random.randint(0,10))#자유롭게 연습해 보세요 0부터 10까지의 랜덤한 int를 생성합니다."
   ]
  },
  {
   "cell_type": "code",
   "execution_count": 32,
   "metadata": {},
   "outputs": [
    {
     "name": "stdout",
     "output_type": "stream",
     "text": [
      "2\n",
      "player 1\n",
      "비김\n",
      "비김\n",
      "비김\n",
      "player 1\n",
      "player 1\n",
      "player 1\n",
      "비김\n",
      "player 2\n",
      "player 1\n"
     ]
    }
   ],
   "source": [
    "for i in range(10):\n",
    "    #1번 플레이어의 행동을 랜덤하게 생성하세요\n",
    "    #2번 플레이어의 행동을 랜덤하게 생성하세요\n",
    "    if(a==b):\n",
    "        winner=\"비김\"\n",
    "    elif(\"\"\"1번 플레이어가 이기는 조건을 이 elif 문 안에 채워넣으세요\"\"\"):\n",
    "        winner=\"player 1\"\n",
    "    else:\n",
    "        winner= \"player 2\"\n",
    "\n",
    "    print(winner)"
   ]
  },
  {
   "cell_type": "markdown",
   "metadata": {},
   "source": [
    "### 6-5\n",
    "random.randint를 이용해 1부터 10까지 랜덤한 숫자 하나를 생성하고 맞추는 게임을 작성하세요  \n",
    "input()을 이용해 사용자가 입력한 숫자인지를 검사합니다.  \n",
    "\n",
    "기회는 총 5번이 주어지고 5번 이내에 맞춘다면 맞춤  \n",
    "5번 기회내에 맞추지 못했다면 틀림이라고 출력하게 하세요  \n",
    "\n",
    "hint:if문과 break문을 적절히 활용하시면 됩니다.(for 문을 사용하여도 됩니다.)"
   ]
  },
  {
   "cell_type": "code",
   "execution_count": 34,
   "metadata": {},
   "outputs": [
    {
     "name": "stdout",
     "output_type": "stream",
     "text": [
      "1\n",
      "틀림\n",
      "2\n",
      "틀림\n",
      "10\n",
      "틀림\n",
      "3\n",
      "틀림\n",
      "5\n",
      "맞춤\n"
     ]
    }
   ],
   "source": [
    "for i in range(5):\n",
    "    \n",
    "    #랜덤 넘버를 생성하세요 \n",
    "    #사용자가 인풋을 이용해 guess를 받도록 하세요 \n",
    "    \n",
    "    if(num==int(guess)):\n",
    "        print(\"맞춤\")\n",
    "        break;\n",
    "    else:\n",
    "        print(\"틀림\")"
   ]
  }
 ],
 "metadata": {
  "kernelspec": {
   "display_name": "Python 3",
   "language": "python",
   "name": "python3"
  },
  "language_info": {
   "codemirror_mode": {
    "name": "ipython",
    "version": 3
   },
   "file_extension": ".py",
   "mimetype": "text/x-python",
   "name": "python",
   "nbconvert_exporter": "python",
   "pygments_lexer": "ipython3",
   "version": "3.7.3"
  }
 },
 "nbformat": 4,
 "nbformat_minor": 2
}
